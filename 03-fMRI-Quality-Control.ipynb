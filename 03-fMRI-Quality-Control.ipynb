{
 "cells": [
  {
   "cell_type": "markdown",
   "id": "513cee5a",
   "metadata": {},
   "source": [
    "# fMRI Quality Control with MRIQC"
   ]
  },
  {
   "cell_type": "markdown",
   "id": "f8f7408b",
   "metadata": {},
   "source": [
    "Before we start to do anything with our data, we should check the acquisition quality. \n",
    "\n",
    "**MRIQC** extracts various [IQMs (image quality metrics)](https://mriqc.readthedocs.io/en/latest/measures.html) from structural (T1w and T2w) and functional MRI (magnetic resonance imaging) data.\n",
    "\n",
    "See [MRIQC Documentation](https://mriqc.readthedocs.io/en/latest/).\n",
    "\n",
    "MRIQC is a [BIDS-App](https://bids-apps.neuroimaging.io/), and therefore it inherently understands the BIDS standard and follows the BIDS-Apps standard command line interface: `mriqc bids-root/ output-folder/ participant`. BIDS-Apps are portable neuroimaging pipelines that understand BIDS datasets.\n"
   ]
  },
  {
   "cell_type": "markdown",
   "id": "c15cf2d8",
   "metadata": {},
   "source": [
    "The best way to run MRIQC is using containerised versions (Docker or Singularity). Containers store the software and all of its dependencies (including a minimal operating system) in a single, large image so that when it comes time to run the software everything \"just works\". This makes the software both shareable and portable while the output becomes reproducible. At the CBU we have Singularity available. It is also available on HPC. Singularity can also be used with Docker images.\n",
    "\n",
    "```bash\n",
    "module load singularity\n",
    "singularity pull --name mriqc_latest.sif docker://nipreps/mriqc:latest\n",
    "```"
   ]
  },
  {
   "cell_type": "markdown",
   "id": "e5ea03c9",
   "metadata": {},
   "source": [
    "## MRIQC Participant level"
   ]
  },
  {
   "cell_type": "markdown",
   "id": "02e7ca7c",
   "metadata": {},
   "source": [
    "`step05_mriqc_run.sh`\n",
    "\n",
    "```bash\n",
    "#!/bin/bash\n",
    "set -eu\n",
    "# receive all directories, and index them per job array\n",
    "SUBJECT_LIST=(\"${@:2}\")\n",
    "subject=${SUBJECT_LIST[${SLURM_ARRAY_TASK_ID}]}\n",
    "\n",
    "# processing start time\n",
    "start=$(date +%s)\n",
    "date\n",
    "echo Submitted subject: \"${subject}\"\n",
    "\n",
    "# ======================================================================\n",
    "# MRIQC with Singularity\n",
    "# ======================================================================\n",
    "singularity run --cleanenv -B \"${1}\":/\"${1}\" \\\n",
    "    /imaging/local/software/singularity_images/mriqc/mriqc-22.0.1.simg \\\n",
    "    \"${1}\"/data/bids \\\n",
    "    \"${1}\"/data/bids/derivatives/mriqc/ \\\n",
    "    --work-dir \"${1}\"/data/work/mriqc/\"$subject\" \\\n",
    "    participant \\\n",
    "    --participant-label \"${subject#sub-}\" \\\n",
    "    --float32 \\\n",
    "    --n_procs 16 --mem_gb 24 --ants-nthreads 16 \\\n",
    "    --modalities T1w bold \\\n",
    "    --no-sub\n",
    "# attaching our project directory to the Singularity\n",
    "# the Singularity file\n",
    "# our BIDS data directory\n",
    "# outut directory\n",
    "# --work-dir: path where intermediate results should be stored\n",
    "# analysis_level (participant or group)\n",
    "# --participant-label: a list of participant identifiers\n",
    "# --float32: cast the input data to float32 if it’s represented in higher precision (saves space and improves perfomance)\n",
    "# --n_procs 16 --mem_gb 24 --ants-nthreads 16: options to handle performance\n",
    "# --modalities: filter input dataset by MRI type\n",
    "# --no-sub: turn off submission of anonymized quality metrics to MRIQC’s metrics repository\n",
    "# ======================================================================\n",
    "\n",
    "# procesing end time\n",
    "end=$(date +%s)\n",
    "echo Time elapsed: \"$(TZ=UTC0 printf '%(%H:%M:%S)T\\n' $((end - start)))\"\n",
    "```\n"
   ]
  },
  {
   "cell_type": "markdown",
   "id": "64f76e2e",
   "metadata": {},
   "source": [
    "`step05_mriqc_batch.sh`\n",
    "```bash\n",
    "#!/bin/bash\n",
    "# ======================================================================\n",
    "# Dace Apšvalka (MRC CBU 2022)\n",
    "# ======================================================================\n",
    "# set -eu\n",
    "\n",
    "# project path\n",
    "PROJECT_PATH=${1}\n",
    "# where to output jobs\n",
    "JOB_DIR=\"$PROJECT_PATH\"/data/work/mriqc/jobs\n",
    "mkdir -p \"$JOB_DIR\"\n",
    "cd \"$JOB_DIR\" || exit\n",
    "\n",
    "# get the subject list \n",
    "SUBJECT_DIRS=(\"$PROJECT_PATH\"/data/bids/sub-*)\n",
    "SUBJECT_LIST=(\"${SUBJECT_DIRS[@]##*/}\") \n",
    "\n",
    "# submit to SLURM\n",
    "sbatch --array=0-$((${#SUBJECT_LIST[@]} - 1)) \"$PROJECT_PATH\"/code/preprocessing/step05_mriqc_run.sh \"${PROJECT_PATH}\" \"${SUBJECT_LIST[@]}\"\n",
    "```\n",
    "\n",
    "To run my MRIQC batch job, I run this command in the terminal: `./step05_mriqc_batch.sh /imaging/correia/dace/training/summer-school/Example_v03/FaceRecognition`\n",
    "\n",
    "Takes about 30-65 min"
   ]
  },
  {
   "cell_type": "markdown",
   "id": "1431b205",
   "metadata": {},
   "source": [
    "## MRIQC Group level\n",
    "\n",
    "The 'Goup' level just aggregates subject level reports and links them together."
   ]
  },
  {
   "cell_type": "markdown",
   "id": "e6e3e4d9",
   "metadata": {},
   "source": [
    "`step06_mriqc_group.sh`\n",
    "```bash\n",
    "#!/bin/bash\n",
    "set -eu\n",
    "# receive all directories, and index them per job array\n",
    "SUBJECT_LIST=(\"${@:2}\")\n",
    "subject=${SUBJECT_LIST[${SLURM_ARRAY_TASK_ID}]}\n",
    "\n",
    "# processing start time\n",
    "start=$(date +%s)\n",
    "date\n",
    "echo Submitted subject: \"${subject}\"\n",
    "\n",
    "singularity run --cleanenv -B \"${1}\":/\"${1}\" \\\n",
    "    /imaging/local/software/singularity_images/mriqc/mriqc-22.0.1.simg \\\n",
    "    \"${1}\"/data/bids \"${1}\"/data/bids/derivatives/mriqc/ \\\n",
    "    --work-dir \"${1}\"/data/work/mriqc/\"$subject\" \\\n",
    "    participant \\\n",
    "    --participant-label \"${subject#sub-}\" \\\n",
    "    --float32 \\\n",
    "    --n_procs 16 --mem_gb 24 \\\n",
    "    --ants-nthreads 16 \\\n",
    "    --modalities T1w bold \\\n",
    "    --ica \\\n",
    "    --no-sub\n",
    "\n",
    "# procesing end time\n",
    "end=$(date +%s)\n",
    "echo Time elapsed: \"$(TZ=UTC0 printf '%(%H:%M:%S)T\\n' $((end - start)))\"\n",
    "```\n",
    "`./step06_mriqc_group.sh /imaging/correia/dace/training/summer-school/Example_v03/FaceRecognition`\n",
    "\n",
    "Takes about 17 seconds. "
   ]
  }
 ],
 "metadata": {
  "kernelspec": {
   "display_name": "Python 3 (ipykernel)",
   "language": "python",
   "name": "python3"
  },
  "language_info": {
   "codemirror_mode": {
    "name": "ipython",
    "version": 3
   },
   "file_extension": ".py",
   "mimetype": "text/x-python",
   "name": "python",
   "nbconvert_exporter": "python",
   "pygments_lexer": "ipython3",
   "version": "3.9.13"
  },
  "toc": {
   "base_numbering": 1,
   "nav_menu": {},
   "number_sections": true,
   "sideBar": true,
   "skip_h1_title": true,
   "title_cell": "Table of Contents",
   "title_sidebar": "Contents",
   "toc_cell": false,
   "toc_position": {},
   "toc_section_display": true,
   "toc_window_display": true
  },
  "varInspector": {
   "cols": {
    "lenName": 16,
    "lenType": 16,
    "lenVar": 40
   },
   "kernels_config": {
    "python": {
     "delete_cmd_postfix": "",
     "delete_cmd_prefix": "del ",
     "library": "var_list.py",
     "varRefreshCmd": "print(var_dic_list())"
    },
    "r": {
     "delete_cmd_postfix": ") ",
     "delete_cmd_prefix": "rm(",
     "library": "var_list.r",
     "varRefreshCmd": "cat(var_dic_list()) "
    }
   },
   "types_to_exclude": [
    "module",
    "function",
    "builtin_function_or_method",
    "instance",
    "_Feature"
   ],
   "window_display": false
  }
 },
 "nbformat": 4,
 "nbformat_minor": 5
}
